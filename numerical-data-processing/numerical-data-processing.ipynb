{
 "cells": [
  {
   "cell_type": "markdown",
   "source": "# Numerical data processing\n\nDocumentation of interest:\n\n1. [Preprocessing data](https://scikit-learn.org/stable/modules/preprocessing.html)\n2. [Map data to a normal distribution](https://scikit-learn.org/stable/auto_examples/preprocessing/plot_map_data_to_normal.html)",
   "metadata": {
    "tags": [],
    "cell_id": "00000-7923140b-e1e1-4b0e-8c56-49b91c16eff3",
    "deepnote_cell_type": "markdown"
   }
  },
  {
   "cell_type": "code",
   "source": "import timeit # Used to measure the execution time of the models\nimport numpy as np\nimport pandas as pd\nimport matplotlib.pyplot as plt\nfrom sklearn import datasets, linear_model",
   "metadata": {
    "tags": [],
    "cell_id": "00001-4342197f-5d1c-40fa-a7af-9306ee2278ee",
    "deepnote_to_be_reexecuted": false,
    "source_hash": "67027202",
    "execution_start": 1626553543939,
    "execution_millis": 2381,
    "deepnote_cell_type": "code"
   },
   "outputs": [],
   "execution_count": 1
  },
  {
   "cell_type": "markdown",
   "source": "For more information about the dataset used, visit its [documentation website](https://scikit-learn.org/stable/modules/generated/sklearn.datasets.load_diabetes.html).\n\n**max-min scaling** is better used for uniform distributions. ",
   "metadata": {
    "tags": [],
    "cell_id": "00002-384e312d-2189-4e80-9fd2-151e3bd82ac5",
    "deepnote_cell_type": "markdown"
   }
  },
  {
   "cell_type": "code",
   "source": "X, y = datasets.load_diabetes(return_X_y=True)\nraw = X[:, None, 2]",
   "metadata": {
    "tags": [],
    "cell_id": "00003-2b478d90-1daa-4ad3-876d-ff5090855725",
    "deepnote_to_be_reexecuted": false,
    "source_hash": "fd89ac57",
    "execution_start": 1626553546329,
    "execution_millis": 23,
    "deepnote_cell_type": "code"
   },
   "outputs": [],
   "execution_count": 2
  },
  {
   "cell_type": "code",
   "source": "# max-min scaling\nmax_raw = max(raw)\nmin_raw = min(raw)\nscaled = (2 * raw - max_raw - min_raw) / (max_raw - min_raw)",
   "metadata": {
    "tags": [],
    "cell_id": "00004-f8f0e98e-f863-4752-8b8e-5fc741854099",
    "deepnote_to_be_reexecuted": false,
    "source_hash": "6cbc8461",
    "execution_start": 1626554685382,
    "execution_millis": 1,
    "deepnote_cell_type": "code"
   },
   "outputs": [],
   "execution_count": 8
  },
  {
   "cell_type": "markdown",
   "source": "Let's see the distribution differences between the original and scaled data.",
   "metadata": {
    "tags": [],
    "cell_id": "00005-64300707-ab7f-4e65-8bb6-f52fdb412d45",
    "deepnote_cell_type": "markdown"
   }
  },
  {
   "cell_type": "code",
   "source": "fig, axs = plt.subplots(2, 1, sharex=True)\naxs[0].hist(raw)\naxs[1].hist(scaled)",
   "metadata": {
    "tags": [],
    "cell_id": "00006-f13f43a3-671e-48ec-a317-af40dcfaac2f",
    "deepnote_to_be_reexecuted": false,
    "source_hash": "fe379dd9",
    "execution_start": 1626554036014,
    "execution_millis": 428,
    "deepnote_cell_type": "code"
   },
   "outputs": [
    {
     "output_type": "execute_result",
     "execution_count": 5,
     "data": {
      "text/plain": "(array([32., 66., 98., 90., 64., 50., 23., 12.,  5.,  2.]),\n array([-1. , -0.8, -0.6, -0.4, -0.2,  0. ,  0.2,  0.4,  0.6,  0.8,  1. ]),\n <BarContainer object of 10 artists>)"
     },
     "metadata": {}
    },
    {
     "data": {
      "text/plain": "<Figure size 432x288 with 2 Axes>",
      "image/png": "[encoded data removed]"
     },
     "metadata": {
      "needs_background": "light",
      "image/png": {
       "width": 375,
       "height": 250
      }
     },
     "output_type": "display_data"
    }
   ],
   "execution_count": 5
  },
  {
   "cell_type": "code",
   "source": "def train_raw():\n    linear_model.LinearRegression().fit(raw, y)\n\ndef train_scaled():\n    linear_model.LinearRegression().fit(scaled, y)",
   "metadata": {
    "tags": [],
    "cell_id": "00007-f10ed6b1-95d7-409c-af83-270c0ff852b0",
    "deepnote_to_be_reexecuted": false,
    "source_hash": "41cdfb7e",
    "execution_start": 1626554175564,
    "execution_millis": 7,
    "deepnote_cell_type": "code"
   },
   "outputs": [],
   "execution_count": 6
  },
  {
   "cell_type": "code",
   "source": "raw_time = timeit.timeit(train_raw, number=100)\nscaled_time = timeit.timeit(train_scaled, number=100)\nprint('train raw: {}'.format(raw_time))\nprint('train scaled: {}'.format(scaled_time))",
   "metadata": {
    "tags": [],
    "cell_id": "00008-58521e42-eba4-4e9b-ba90-de34dd816e4a",
    "deepnote_to_be_reexecuted": false,
    "source_hash": "682ab7b3",
    "execution_start": 1626554408305,
    "execution_millis": 91,
    "deepnote_cell_type": "code"
   },
   "outputs": [
    {
     "name": "stdout",
     "text": "train raw: 0.07802291700500064\ntrain scaled: 0.05712110000604298\n",
     "output_type": "stream"
    }
   ],
   "execution_count": 7
  },
  {
   "cell_type": "markdown",
   "source": "## Non-linear transformation",
   "metadata": {
    "tags": [],
    "cell_id": "00009-150f4965-1711-45b0-9ac1-ed7563699280",
    "deepnote_cell_type": "markdown"
   }
  },
  {
   "cell_type": "code",
   "source": "cars_data = pd.read_csv('./cars.csv')",
   "metadata": {
    "tags": [],
    "cell_id": "00010-ffdf511a-93cc-4974-b75a-49ae68cad925",
    "deepnote_to_be_reexecuted": false,
    "source_hash": "bc70710b",
    "execution_start": 1626555048724,
    "execution_millis": 178,
    "deepnote_cell_type": "code"
   },
   "outputs": [],
   "execution_count": 9
  },
  {
   "cell_type": "code",
   "source": "cars_data['price_usd'].hist()",
   "metadata": {
    "tags": [],
    "cell_id": "00011-5b8da484-a64d-481e-9596-2c8021490c9d",
    "deepnote_to_be_reexecuted": false,
    "source_hash": "11264746",
    "execution_start": 1626555075411,
    "execution_millis": 272,
    "deepnote_cell_type": "code"
   },
   "outputs": [
    {
     "output_type": "execute_result",
     "execution_count": 11,
     "data": {
      "text/plain": "<AxesSubplot:>"
     },
     "metadata": {}
    },
    {
     "data": {
      "text/plain": "<Figure size 432x288 with 1 Axes>",
      "image/png": "[encoded data removed]"
     },
     "metadata": {
      "needs_background": "light",
      "image/png": {
       "width": 388,
       "height": 248
      }
     },
     "output_type": "display_data"
    }
   ],
   "execution_count": 11
  },
  {
   "cell_type": "code",
   "source": "p = 10000\ncars_data['price_usd'].apply(lambda x: np.tanh(x/p)).hist()",
   "metadata": {
    "tags": [],
    "cell_id": "00012-e08bb983-0eac-41da-8083-0f31480ed56d",
    "deepnote_to_be_reexecuted": false,
    "source_hash": "9d48349d",
    "execution_start": 1626555301685,
    "execution_millis": 264,
    "deepnote_cell_type": "code"
   },
   "outputs": [
    {
     "output_type": "execute_result",
     "execution_count": 16,
     "data": {
      "text/plain": "<AxesSubplot:>"
     },
     "metadata": {}
    },
    {
     "data": {
      "text/plain": "<Figure size 432x288 with 1 Axes>",
      "image/png": "[encoded data removed]"
     },
     "metadata": {
      "needs_background": "light",
      "image/png": {
       "width": 381,
       "height": 248
      }
     },
     "output_type": "display_data"
    }
   ],
   "execution_count": 16
  },
  {
   "cell_type": "markdown",
   "source": "<a style='text-decoration:none;line-height:16px;display:flex;color:#5B5B62;padding:10px;justify-content:end;' href='https://deepnote.com?utm_source=created-in-deepnote-cell&projectId=36c54c60-6e31-4b99-9692-c642be612235' target=\"_blank\">\n<img alt='Created in deepnote.com' style='display:inline;max-height:16px;margin:0px;margin-right:7.5px;' src='data:image/svg+xml;base64,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' > </img>\nCreated in <span style='font-weight:600;margin-left:4px;'>Deepnote</span></a>",
   "metadata": {
    "tags": [],
    "created_in_deepnote_cell": true,
    "deepnote_cell_type": "markdown"
   }
  }
 ],
 "nbformat": 4,
 "nbformat_minor": 2,
 "metadata": {
  "orig_nbformat": 2,
  "deepnote": {
   "is_reactive": false
  },
  "deepnote_notebook_id": "6c86badb-1914-4806-9a39-86df69f39241",
  "deepnote_execution_queue": []
 }
}