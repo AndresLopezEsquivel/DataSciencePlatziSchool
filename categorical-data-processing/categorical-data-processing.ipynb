{
 "cells": [
  {
   "cell_type": "markdown",
   "source": "# Categorical data processing",
   "metadata": {
    "tags": [],
    "cell_id": "00000-7d77e4e5-79a4-41cc-ace5-95c634bd5b11",
    "deepnote_cell_type": "markdown"
   }
  },
  {
   "cell_type": "code",
   "source": "import pandas as pd\n\ncars_data = pd.read_csv('../numerical-data-processing/cars.csv')",
   "metadata": {
    "tags": [],
    "cell_id": "00001-d9b9f333-fa59-4b5f-9b02-5e731c4a2638",
    "deepnote_to_be_reexecuted": false,
    "source_hash": "982bebde",
    "execution_start": 1626557682107,
    "execution_millis": 1253,
    "deepnote_cell_type": "code"
   },
   "outputs": [],
   "execution_count": null
  },
  {
   "cell_type": "markdown",
   "source": "## Dummies\n\nVisit [this website](https://pandas.pydata.org/docs/reference/api/pandas.get_dummies.html) to check more information about `pandas.get_dummies`.",
   "metadata": {
    "tags": [],
    "cell_id": "00002-5440b3a0-72f0-4fc1-874a-61d38d9084c0",
    "deepnote_cell_type": "markdown"
   }
  },
  {
   "cell_type": "code",
   "source": "pd.get_dummies(cars_data['engine_type'])",
   "metadata": {
    "tags": [],
    "cell_id": "00003-e9cb7a6a-a0cf-4061-828f-276bda34d019",
    "deepnote_to_be_reexecuted": false,
    "source_hash": "1ef59fcc",
    "execution_start": 1626558060109,
    "execution_millis": 123,
    "deepnote_cell_type": "code"
   },
   "outputs": [
    {
     "output_type": "execute_result",
     "execution_count": 2,
     "data": {
      "application/vnd.deepnote.dataframe.v2+json": {
       "row_count": 38531,
       "column_count": 3,
       "columns": [
        {
         "name": "diesel",
         "dtype": "uint8",
         "stats": {
          "unique_count": 2,
          "nan_count": 0,
          "min": "0",
          "max": "1",
          "histogram": [
           {
            "bin_start": 0,
            "bin_end": 0.1,
            "count": 25657
           },
           {
            "bin_start": 0.1,
            "bin_end": 0.2,
            "count": 0
           },
           {
            "bin_start": 0.2,
            "bin_end": 0.30000000000000004,
            "count": 0
           },
           {
            "bin_start": 0.30000000000000004,
            "bin_end": 0.4,
            "count": 0
           },
           {
            "bin_start": 0.4,
            "bin_end": 0.5,
            "count": 0
           },
           {
            "bin_start": 0.5,
            "bin_end": 0.6000000000000001,
            "count": 0
           },
           {
            "bin_start": 0.6000000000000001,
            "bin_end": 0.7000000000000001,
            "count": 0
           },
           {
            "bin_start": 0.7000000000000001,
            "bin_end": 0.8,
            "count": 0
           },
           {
            "bin_start": 0.8,
            "bin_end": 0.9,
            "count": 0
           },
           {
            "bin_start": 0.9,
            "bin_end": 1,
            "count": 12874
           }
          ]
         }
        },
        {
         "name": "electric",
         "dtype": "uint8",
         "stats": {
          "unique_count": 2,
          "nan_count": 0,
          "min": "0",
          "max": "1",
          "histogram": [
           {
            "bin_start": 0,
            "bin_end": 0.1,
            "count": 38521
           },
           {
            "bin_start": 0.1,
            "bin_end": 0.2,
            "count": 0
           },
           {
            "bin_start": 0.2,
            "bin_end": 0.30000000000000004,
            "count": 0
           },
           {
            "bin_start": 0.30000000000000004,
            "bin_end": 0.4,
            "count": 0
           },
           {
            "bin_start": 0.4,
            "bin_end": 0.5,
            "count": 0
           },
           {
            "bin_start": 0.5,
            "bin_end": 0.6000000000000001,
            "count": 0
           },
           {
            "bin_start": 0.6000000000000001,
            "bin_end": 0.7000000000000001,
            "count": 0
           },
           {
            "bin_start": 0.7000000000000001,
            "bin_end": 0.8,
            "count": 0
           },
           {
            "bin_start": 0.8,
            "bin_end": 0.9,
            "count": 0
           },
           {
            "bin_start": 0.9,
            "bin_end": 1,
            "count": 10
           }
          ]
         }
        },
        {
         "name": "gasoline",
         "dtype": "uint8"
        },
        {
         "name": "_deepnote_index_column",
         "dtype": "int64"
        }
       ],
       "rows_top": [
        {
         "diesel": 0,
         "electric": 0,
         "gasoline": 1,
         "_deepnote_index_column": 0
        },
        {
         "diesel": 0,
         "electric": 0,
         "gasoline": 1,
         "_deepnote_index_column": 1
        },
        {
         "diesel": 0,
         "electric": 0,
         "gasoline": 1,
         "_deepnote_index_column": 2
        },
        {
         "diesel": 0,
         "electric": 0,
         "gasoline": 1,
         "_deepnote_index_column": 3
        },
        {
         "diesel": 0,
         "electric": 0,
         "gasoline": 1,
         "_deepnote_index_column": 4
        },
        {
         "diesel": 0,
         "electric": 0,
         "gasoline": 1,
         "_deepnote_index_column": 5
        },
        {
         "diesel": 0,
         "electric": 0,
         "gasoline": 1,
         "_deepnote_index_column": 6
        },
        {
         "diesel": 0,
         "electric": 0,
         "gasoline": 1,
         "_deepnote_index_column": 7
        },
        {
         "diesel": 0,
         "electric": 0,
         "gasoline": 1,
         "_deepnote_index_column": 8
        },
        {
         "diesel": 0,
         "electric": 0,
         "gasoline": 1,
         "_deepnote_index_column": 9
        },
        {
         "diesel": 0,
         "electric": 0,
         "gasoline": 1,
         "_deepnote_index_column": 10
        },
        {
         "diesel": 0,
         "electric": 0,
         "gasoline": 1,
         "_deepnote_index_column": 11
        },
        {
         "diesel": 0,
         "electric": 0,
         "gasoline": 1,
         "_deepnote_index_column": 12
        },
        {
         "diesel": 0,
         "electric": 0,
         "gasoline": 1,
         "_deepnote_index_column": 13
        },
        {
         "diesel": 0,
         "electric": 0,
         "gasoline": 1,
         "_deepnote_index_column": 14
        },
        {
         "diesel": 0,
         "electric": 0,
         "gasoline": 1,
         "_deepnote_index_column": 15
        },
        {
         "diesel": 0,
         "electric": 0,
         "gasoline": 1,
         "_deepnote_index_column": 16
        },
        {
         "diesel": 0,
         "electric": 0,
         "gasoline": 1,
         "_deepnote_index_column": 17
        },
        {
         "diesel": 0,
         "electric": 0,
         "gasoline": 1,
         "_deepnote_index_column": 18
        },
        {
         "diesel": 0,
         "electric": 0,
         "gasoline": 1,
         "_deepnote_index_column": 19
        },
        {
         "diesel": 0,
         "electric": 0,
         "gasoline": 1,
         "_deepnote_index_column": 20
        },
        {
         "diesel": 0,
         "electric": 0,
         "gasoline": 1,
         "_deepnote_index_column": 21
        },
        {
         "diesel": 0,
         "electric": 0,
         "gasoline": 1,
         "_deepnote_index_column": 22
        },
        {
         "diesel": 0,
         "electric": 0,
         "gasoline": 1,
         "_deepnote_index_column": 23
        },
        {
         "diesel": 0,
         "electric": 0,
         "gasoline": 1,
         "_deepnote_index_column": 24
        },
        {
         "diesel": 0,
         "electric": 0,
         "gasoline": 1,
         "_deepnote_index_column": 25
        },
        {
         "diesel": 0,
         "electric": 0,
         "gasoline": 1,
         "_deepnote_index_column": 26
        },
        {
         "diesel": 0,
         "electric": 0,
         "gasoline": 1,
         "_deepnote_index_column": 27
        },
        {
         "diesel": 0,
         "electric": 0,
         "gasoline": 1,
         "_deepnote_index_column": 28
        },
        {
         "diesel": 0,
         "electric": 0,
         "gasoline": 1,
         "_deepnote_index_column": 29
        },
        {
         "diesel": 0,
         "electric": 0,
         "gasoline": 1,
         "_deepnote_index_column": 30
        },
        {
         "diesel": 0,
         "electric": 0,
         "gasoline": 1,
         "_deepnote_index_column": 31
        },
        {
         "diesel": 0,
         "electric": 0,
         "gasoline": 1,
         "_deepnote_index_column": 32
        },
        {
         "diesel": 0,
         "electric": 0,
         "gasoline": 1,
         "_deepnote_index_column": 33
        },
        {
         "diesel": 0,
         "electric": 0,
         "gasoline": 1,
         "_deepnote_index_column": 34
        },
        {
         "diesel": 0,
         "electric": 0,
         "gasoline": 1,
         "_deepnote_index_column": 35
        },
        {
         "diesel": 0,
         "electric": 0,
         "gasoline": 1,
         "_deepnote_index_column": 36
        },
        {
         "diesel": 0,
         "electric": 0,
         "gasoline": 1,
         "_deepnote_index_column": 37
        },
        {
         "diesel": 0,
         "electric": 0,
         "gasoline": 1,
         "_deepnote_index_column": 38
        },
        {
         "diesel": 0,
         "electric": 0,
         "gasoline": 1,
         "_deepnote_index_column": 39
        },
        {
         "diesel": 0,
         "electric": 0,
         "gasoline": 1,
         "_deepnote_index_column": 40
        },
        {
         "diesel": 0,
         "electric": 0,
         "gasoline": 1,
         "_deepnote_index_column": 41
        },
        {
         "diesel": 0,
         "electric": 0,
         "gasoline": 1,
         "_deepnote_index_column": 42
        },
        {
         "diesel": 0,
         "electric": 0,
         "gasoline": 1,
         "_deepnote_index_column": 43
        },
        {
         "diesel": 0,
         "electric": 0,
         "gasoline": 1,
         "_deepnote_index_column": 44
        },
        {
         "diesel": 0,
         "electric": 0,
         "gasoline": 1,
         "_deepnote_index_column": 45
        },
        {
         "diesel": 0,
         "electric": 0,
         "gasoline": 1,
         "_deepnote_index_column": 46
        },
        {
         "diesel": 0,
         "electric": 0,
         "gasoline": 1,
         "_deepnote_index_column": 47
        },
        {
         "diesel": 0,
         "electric": 0,
         "gasoline": 1,
         "_deepnote_index_column": 48
        },
        {
         "diesel": 0,
         "electric": 0,
         "gasoline": 1,
         "_deepnote_index_column": 49
        },
        {
         "diesel": 0,
         "electric": 0,
         "gasoline": 1,
         "_deepnote_index_column": 50
        },
        {
         "diesel": 0,
         "electric": 0,
         "gasoline": 1,
         "_deepnote_index_column": 51
        },
        {
         "diesel": 0,
         "electric": 0,
         "gasoline": 1,
         "_deepnote_index_column": 52
        },
        {
         "diesel": 0,
         "electric": 0,
         "gasoline": 1,
         "_deepnote_index_column": 53
        },
        {
         "diesel": 0,
         "electric": 0,
         "gasoline": 1,
         "_deepnote_index_column": 54
        },
        {
         "diesel": 0,
         "electric": 0,
         "gasoline": 1,
         "_deepnote_index_column": 55
        },
        {
         "diesel": 0,
         "electric": 0,
         "gasoline": 1,
         "_deepnote_index_column": 56
        },
        {
         "diesel": 0,
         "electric": 0,
         "gasoline": 1,
         "_deepnote_index_column": 57
        },
        {
         "diesel": 0,
         "electric": 0,
         "gasoline": 1,
         "_deepnote_index_column": 58
        },
        {
         "diesel": 0,
         "electric": 0,
         "gasoline": 1,
         "_deepnote_index_column": 59
        },
        {
         "diesel": 0,
         "electric": 0,
         "gasoline": 1,
         "_deepnote_index_column": 60
        },
        {
         "diesel": 0,
         "electric": 0,
         "gasoline": 1,
         "_deepnote_index_column": 61
        },
        {
         "diesel": 0,
         "electric": 0,
         "gasoline": 1,
         "_deepnote_index_column": 62
        },
        {
         "diesel": 0,
         "electric": 0,
         "gasoline": 1,
         "_deepnote_index_column": 63
        },
        {
         "diesel": 0,
         "electric": 0,
         "gasoline": 1,
         "_deepnote_index_column": 64
        },
        {
         "diesel": 0,
         "electric": 0,
         "gasoline": 1,
         "_deepnote_index_column": 65
        },
        {
         "diesel": 0,
         "electric": 0,
         "gasoline": 1,
         "_deepnote_index_column": 66
        },
        {
         "diesel": 0,
         "electric": 0,
         "gasoline": 1,
         "_deepnote_index_column": 67
        },
        {
         "diesel": 0,
         "electric": 0,
         "gasoline": 1,
         "_deepnote_index_column": 68
        },
        {
         "diesel": 0,
         "electric": 0,
         "gasoline": 1,
         "_deepnote_index_column": 69
        },
        {
         "diesel": 0,
         "electric": 0,
         "gasoline": 1,
         "_deepnote_index_column": 70
        },
        {
         "diesel": 0,
         "electric": 0,
         "gasoline": 1,
         "_deepnote_index_column": 71
        },
        {
         "diesel": 0,
         "electric": 0,
         "gasoline": 1,
         "_deepnote_index_column": 72
        },
        {
         "diesel": 0,
         "electric": 0,
         "gasoline": 1,
         "_deepnote_index_column": 73
        },
        {
         "diesel": 0,
         "electric": 0,
         "gasoline": 1,
         "_deepnote_index_column": 74
        },
        {
         "diesel": 0,
         "electric": 0,
         "gasoline": 1,
         "_deepnote_index_column": 75
        },
        {
         "diesel": 0,
         "electric": 0,
         "gasoline": 1,
         "_deepnote_index_column": 76
        },
        {
         "diesel": 0,
         "electric": 0,
         "gasoline": 1,
         "_deepnote_index_column": 77
        },
        {
         "diesel": 0,
         "electric": 0,
         "gasoline": 1,
         "_deepnote_index_column": 78
        },
        {
         "diesel": 0,
         "electric": 0,
         "gasoline": 1,
         "_deepnote_index_column": 79
        },
        {
         "diesel": 0,
         "electric": 0,
         "gasoline": 1,
         "_deepnote_index_column": 80
        },
        {
         "diesel": 0,
         "electric": 0,
         "gasoline": 1,
         "_deepnote_index_column": 81
        },
        {
         "diesel": 0,
         "electric": 0,
         "gasoline": 1,
         "_deepnote_index_column": 82
        },
        {
         "diesel": 0,
         "electric": 0,
         "gasoline": 1,
         "_deepnote_index_column": 83
        },
        {
         "diesel": 0,
         "electric": 0,
         "gasoline": 1,
         "_deepnote_index_column": 84
        },
        {
         "diesel": 0,
         "electric": 0,
         "gasoline": 1,
         "_deepnote_index_column": 85
        },
        {
         "diesel": 0,
         "electric": 0,
         "gasoline": 1,
         "_deepnote_index_column": 86
        },
        {
         "diesel": 0,
         "electric": 0,
         "gasoline": 1,
         "_deepnote_index_column": 87
        },
        {
         "diesel": 0,
         "electric": 0,
         "gasoline": 1,
         "_deepnote_index_column": 88
        },
        {
         "diesel": 0,
         "electric": 0,
         "gasoline": 1,
         "_deepnote_index_column": 89
        },
        {
         "diesel": 0,
         "electric": 0,
         "gasoline": 1,
         "_deepnote_index_column": 90
        },
        {
         "diesel": 0,
         "electric": 0,
         "gasoline": 1,
         "_deepnote_index_column": 91
        },
        {
         "diesel": 0,
         "electric": 0,
         "gasoline": 1,
         "_deepnote_index_column": 92
        },
        {
         "diesel": 0,
         "electric": 0,
         "gasoline": 1,
         "_deepnote_index_column": 93
        },
        {
         "diesel": 0,
         "electric": 0,
         "gasoline": 1,
         "_deepnote_index_column": 94
        },
        {
         "diesel": 0,
         "electric": 0,
         "gasoline": 1,
         "_deepnote_index_column": 95
        },
        {
         "diesel": 0,
         "electric": 0,
         "gasoline": 1,
         "_deepnote_index_column": 96
        },
        {
         "diesel": 0,
         "electric": 0,
         "gasoline": 1,
         "_deepnote_index_column": 97
        },
        {
         "diesel": 0,
         "electric": 0,
         "gasoline": 1,
         "_deepnote_index_column": 98
        },
        {
         "diesel": 0,
         "electric": 0,
         "gasoline": 1,
         "_deepnote_index_column": 99
        },
        {
         "diesel": 0,
         "electric": 0,
         "gasoline": 1,
         "_deepnote_index_column": 100
        },
        {
         "diesel": 0,
         "electric": 0,
         "gasoline": 1,
         "_deepnote_index_column": 101
        },
        {
         "diesel": 0,
         "electric": 0,
         "gasoline": 1,
         "_deepnote_index_column": 102
        },
        {
         "diesel": 0,
         "electric": 0,
         "gasoline": 1,
         "_deepnote_index_column": 103
        },
        {
         "diesel": 0,
         "electric": 0,
         "gasoline": 1,
         "_deepnote_index_column": 104
        },
        {
         "diesel": 0,
         "electric": 0,
         "gasoline": 1,
         "_deepnote_index_column": 105
        },
        {
         "diesel": 0,
         "electric": 0,
         "gasoline": 1,
         "_deepnote_index_column": 106
        },
        {
         "diesel": 0,
         "electric": 0,
         "gasoline": 1,
         "_deepnote_index_column": 107
        },
        {
         "diesel": 0,
         "electric": 0,
         "gasoline": 1,
         "_deepnote_index_column": 108
        },
        {
         "diesel": 0,
         "electric": 0,
         "gasoline": 1,
         "_deepnote_index_column": 109
        },
        {
         "diesel": 0,
         "electric": 0,
         "gasoline": 1,
         "_deepnote_index_column": 110
        },
        {
         "diesel": 0,
         "electric": 0,
         "gasoline": 1,
         "_deepnote_index_column": 111
        },
        {
         "diesel": 0,
         "electric": 0,
         "gasoline": 1,
         "_deepnote_index_column": 112
        },
        {
         "diesel": 0,
         "electric": 0,
         "gasoline": 1,
         "_deepnote_index_column": 113
        },
        {
         "diesel": 0,
         "electric": 0,
         "gasoline": 1,
         "_deepnote_index_column": 114
        },
        {
         "diesel": 0,
         "electric": 0,
         "gasoline": 1,
         "_deepnote_index_column": 115
        },
        {
         "diesel": 0,
         "electric": 0,
         "gasoline": 1,
         "_deepnote_index_column": 116
        },
        {
         "diesel": 0,
         "electric": 0,
         "gasoline": 1,
         "_deepnote_index_column": 117
        },
        {
         "diesel": 0,
         "electric": 0,
         "gasoline": 1,
         "_deepnote_index_column": 118
        },
        {
         "diesel": 0,
         "electric": 0,
         "gasoline": 1,
         "_deepnote_index_column": 119
        },
        {
         "diesel": 0,
         "electric": 0,
         "gasoline": 1,
         "_deepnote_index_column": 120
        },
        {
         "diesel": 0,
         "electric": 0,
         "gasoline": 1,
         "_deepnote_index_column": 121
        },
        {
         "diesel": 0,
         "electric": 0,
         "gasoline": 1,
         "_deepnote_index_column": 122
        },
        {
         "diesel": 0,
         "electric": 0,
         "gasoline": 1,
         "_deepnote_index_column": 123
        },
        {
         "diesel": 0,
         "electric": 0,
         "gasoline": 1,
         "_deepnote_index_column": 124
        },
        {
         "diesel": 0,
         "electric": 0,
         "gasoline": 1,
         "_deepnote_index_column": 125
        },
        {
         "diesel": 0,
         "electric": 0,
         "gasoline": 1,
         "_deepnote_index_column": 126
        },
        {
         "diesel": 0,
         "electric": 0,
         "gasoline": 1,
         "_deepnote_index_column": 127
        },
        {
         "diesel": 0,
         "electric": 0,
         "gasoline": 1,
         "_deepnote_index_column": 128
        },
        {
         "diesel": 0,
         "electric": 0,
         "gasoline": 1,
         "_deepnote_index_column": 129
        },
        {
         "diesel": 0,
         "electric": 0,
         "gasoline": 1,
         "_deepnote_index_column": 130
        },
        {
         "diesel": 0,
         "electric": 0,
         "gasoline": 1,
         "_deepnote_index_column": 131
        },
        {
         "diesel": 0,
         "electric": 0,
         "gasoline": 1,
         "_deepnote_index_column": 132
        },
        {
         "diesel": 0,
         "electric": 0,
         "gasoline": 1,
         "_deepnote_index_column": 133
        },
        {
         "diesel": 0,
         "electric": 0,
         "gasoline": 1,
         "_deepnote_index_column": 134
        },
        {
         "diesel": 0,
         "electric": 0,
         "gasoline": 1,
         "_deepnote_index_column": 135
        },
        {
         "diesel": 1,
         "electric": 0,
         "gasoline": 0,
         "_deepnote_index_column": 136
        },
        {
         "diesel": 0,
         "electric": 0,
         "gasoline": 1,
         "_deepnote_index_column": 137
        },
        {
         "diesel": 0,
         "electric": 0,
         "gasoline": 1,
         "_deepnote_index_column": 138
        },
        {
         "diesel": 0,
         "electric": 0,
         "gasoline": 1,
         "_deepnote_index_column": 139
        },
        {
         "diesel": 0,
         "electric": 0,
         "gasoline": 1,
         "_deepnote_index_column": 140
        },
        {
         "diesel": 0,
         "electric": 0,
         "gasoline": 1,
         "_deepnote_index_column": 141
        },
        {
         "diesel": 0,
         "electric": 0,
         "gasoline": 1,
         "_deepnote_index_column": 142
        },
        {
         "diesel": 0,
         "electric": 0,
         "gasoline": 1,
         "_deepnote_index_column": 143
        },
        {
         "diesel": 0,
         "electric": 0,
         "gasoline": 1,
         "_deepnote_index_column": 144
        },
        {
         "diesel": 0,
         "electric": 0,
         "gasoline": 1,
         "_deepnote_index_column": 145
        },
        {
         "diesel": 0,
         "electric": 0,
         "gasoline": 1,
         "_deepnote_index_column": 146
        },
        {
         "diesel": 0,
         "electric": 0,
         "gasoline": 1,
         "_deepnote_index_column": 147
        },
        {
         "diesel": 0,
         "electric": 0,
         "gasoline": 1,
         "_deepnote_index_column": 148
        },
        {
         "diesel": 0,
         "electric": 0,
         "gasoline": 1,
         "_deepnote_index_column": 149
        },
        {
         "diesel": 0,
         "electric": 0,
         "gasoline": 1,
         "_deepnote_index_column": 150
        },
        {
         "diesel": 0,
         "electric": 0,
         "gasoline": 1,
         "_deepnote_index_column": 151
        },
        {
         "diesel": 0,
         "electric": 0,
         "gasoline": 1,
         "_deepnote_index_column": 152
        },
        {
         "diesel": 0,
         "electric": 0,
         "gasoline": 1,
         "_deepnote_index_column": 153
        },
        {
         "diesel": 0,
         "electric": 0,
         "gasoline": 1,
         "_deepnote_index_column": 154
        },
        {
         "diesel": 0,
         "electric": 0,
         "gasoline": 1,
         "_deepnote_index_column": 155
        },
        {
         "diesel": 0,
         "electric": 0,
         "gasoline": 1,
         "_deepnote_index_column": 156
        },
        {
         "diesel": 0,
         "electric": 0,
         "gasoline": 1,
         "_deepnote_index_column": 157
        },
        {
         "diesel": 0,
         "electric": 0,
         "gasoline": 1,
         "_deepnote_index_column": 158
        },
        {
         "diesel": 0,
         "electric": 0,
         "gasoline": 1,
         "_deepnote_index_column": 159
        },
        {
         "diesel": 0,
         "electric": 0,
         "gasoline": 1,
         "_deepnote_index_column": 160
        },
        {
         "diesel": 1,
         "electric": 0,
         "gasoline": 0,
         "_deepnote_index_column": 161
        },
        {
         "diesel": 0,
         "electric": 0,
         "gasoline": 1,
         "_deepnote_index_column": 162
        },
        {
         "diesel": 0,
         "electric": 0,
         "gasoline": 1,
         "_deepnote_index_column": 163
        },
        {
         "diesel": 0,
         "electric": 0,
         "gasoline": 1,
         "_deepnote_index_column": 164
        },
        {
         "diesel": 0,
         "electric": 0,
         "gasoline": 1,
         "_deepnote_index_column": 165
        }
       ],
       "rows_bottom": [
        {
         "diesel": 0,
         "electric": 0,
         "gasoline": 1,
         "_deepnote_index_column": 38364
        },
        {
         "diesel": 0,
         "electric": 0,
         "gasoline": 1,
         "_deepnote_index_column": 38365
        },
        {
         "diesel": 0,
         "electric": 0,
         "gasoline": 1,
         "_deepnote_index_column": 38366
        },
        {
         "diesel": 0,
         "electric": 0,
         "gasoline": 1,
         "_deepnote_index_column": 38367
        },
        {
         "diesel": 0,
         "electric": 0,
         "gasoline": 1,
         "_deepnote_index_column": 38368
        },
        {
         "diesel": 0,
         "electric": 0,
         "gasoline": 1,
         "_deepnote_index_column": 38369
        },
        {
         "diesel": 0,
         "electric": 0,
         "gasoline": 1,
         "_deepnote_index_column": 38370
        },
        {
         "diesel": 1,
         "electric": 0,
         "gasoline": 0,
         "_deepnote_index_column": 38371
        },
        {
         "diesel": 0,
         "electric": 0,
         "gasoline": 1,
         "_deepnote_index_column": 38372
        },
        {
         "diesel": 0,
         "electric": 0,
         "gasoline": 1,
         "_deepnote_index_column": 38373
        },
        {
         "diesel": 0,
         "electric": 0,
         "gasoline": 1,
         "_deepnote_index_column": 38374
        },
        {
         "diesel": 0,
         "electric": 0,
         "gasoline": 1,
         "_deepnote_index_column": 38375
        },
        {
         "diesel": 0,
         "electric": 0,
         "gasoline": 1,
         "_deepnote_index_column": 38376
        },
        {
         "diesel": 0,
         "electric": 0,
         "gasoline": 1,
         "_deepnote_index_column": 38377
        },
        {
         "diesel": 0,
         "electric": 0,
         "gasoline": 1,
         "_deepnote_index_column": 38378
        },
        {
         "diesel": 0,
         "electric": 0,
         "gasoline": 1,
         "_deepnote_index_column": 38379
        },
        {
         "diesel": 0,
         "electric": 0,
         "gasoline": 1,
         "_deepnote_index_column": 38380
        },
        {
         "diesel": 1,
         "electric": 0,
         "gasoline": 0,
         "_deepnote_index_column": 38381
        },
        {
         "diesel": 0,
         "electric": 0,
         "gasoline": 1,
         "_deepnote_index_column": 38382
        },
        {
         "diesel": 0,
         "electric": 0,
         "gasoline": 1,
         "_deepnote_index_column": 38383
        },
        {
         "diesel": 1,
         "electric": 0,
         "gasoline": 0,
         "_deepnote_index_column": 38384
        },
        {
         "diesel": 0,
         "electric": 0,
         "gasoline": 1,
         "_deepnote_index_column": 38385
        },
        {
         "diesel": 1,
         "electric": 0,
         "gasoline": 0,
         "_deepnote_index_column": 38386
        },
        {
         "diesel": 0,
         "electric": 0,
         "gasoline": 1,
         "_deepnote_index_column": 38387
        },
        {
         "diesel": 1,
         "electric": 0,
         "gasoline": 0,
         "_deepnote_index_column": 38388
        },
        {
         "diesel": 0,
         "electric": 0,
         "gasoline": 1,
         "_deepnote_index_column": 38389
        },
        {
         "diesel": 0,
         "electric": 0,
         "gasoline": 1,
         "_deepnote_index_column": 38390
        },
        {
         "diesel": 0,
         "electric": 0,
         "gasoline": 1,
         "_deepnote_index_column": 38391
        },
        {
         "diesel": 1,
         "electric": 0,
         "gasoline": 0,
         "_deepnote_index_column": 38392
        },
        {
         "diesel": 0,
         "electric": 0,
         "gasoline": 1,
         "_deepnote_index_column": 38393
        },
        {
         "diesel": 1,
         "electric": 0,
         "gasoline": 0,
         "_deepnote_index_column": 38394
        },
        {
         "diesel": 1,
         "electric": 0,
         "gasoline": 0,
         "_deepnote_index_column": 38395
        },
        {
         "diesel": 0,
         "electric": 0,
         "gasoline": 1,
         "_deepnote_index_column": 38396
        },
        {
         "diesel": 0,
         "electric": 0,
         "gasoline": 1,
         "_deepnote_index_column": 38397
        },
        {
         "diesel": 1,
         "electric": 0,
         "gasoline": 0,
         "_deepnote_index_column": 38398
        },
        {
         "diesel": 0,
         "electric": 0,
         "gasoline": 1,
         "_deepnote_index_column": 38399
        },
        {
         "diesel": 0,
         "electric": 0,
         "gasoline": 1,
         "_deepnote_index_column": 38400
        },
        {
         "diesel": 0,
         "electric": 0,
         "gasoline": 1,
         "_deepnote_index_column": 38401
        },
        {
         "diesel": 0,
         "electric": 0,
         "gasoline": 1,
         "_deepnote_index_column": 38402
        },
        {
         "diesel": 0,
         "electric": 0,
         "gasoline": 1,
         "_deepnote_index_column": 38403
        },
        {
         "diesel": 0,
         "electric": 0,
         "gasoline": 1,
         "_deepnote_index_column": 38404
        },
        {
         "diesel": 0,
         "electric": 0,
         "gasoline": 1,
         "_deepnote_index_column": 38405
        },
        {
         "diesel": 0,
         "electric": 0,
         "gasoline": 1,
         "_deepnote_index_column": 38406
        },
        {
         "diesel": 0,
         "electric": 0,
         "gasoline": 1,
         "_deepnote_index_column": 38407
        },
        {
         "diesel": 0,
         "electric": 0,
         "gasoline": 1,
         "_deepnote_index_column": 38408
        },
        {
         "diesel": 0,
         "electric": 0,
         "gasoline": 1,
         "_deepnote_index_column": 38409
        },
        {
         "diesel": 0,
         "electric": 0,
         "gasoline": 1,
         "_deepnote_index_column": 38410
        },
        {
         "diesel": 0,
         "electric": 0,
         "gasoline": 1,
         "_deepnote_index_column": 38411
        },
        {
         "diesel": 0,
         "electric": 0,
         "gasoline": 1,
         "_deepnote_index_column": 38412
        },
        {
         "diesel": 0,
         "electric": 0,
         "gasoline": 1,
         "_deepnote_index_column": 38413
        },
        {
         "diesel": 0,
         "electric": 0,
         "gasoline": 1,
         "_deepnote_index_column": 38414
        },
        {
         "diesel": 1,
         "electric": 0,
         "gasoline": 0,
         "_deepnote_index_column": 38415
        },
        {
         "diesel": 0,
         "electric": 0,
         "gasoline": 1,
         "_deepnote_index_column": 38416
        },
        {
         "diesel": 0,
         "electric": 0,
         "gasoline": 1,
         "_deepnote_index_column": 38417
        },
        {
         "diesel": 1,
         "electric": 0,
         "gasoline": 0,
         "_deepnote_index_column": 38418
        },
        {
         "diesel": 0,
         "electric": 0,
         "gasoline": 1,
         "_deepnote_index_column": 38419
        },
        {
         "diesel": 0,
         "electric": 0,
         "gasoline": 1,
         "_deepnote_index_column": 38420
        },
        {
         "diesel": 1,
         "electric": 0,
         "gasoline": 0,
         "_deepnote_index_column": 38421
        },
        {
         "diesel": 1,
         "electric": 0,
         "gasoline": 0,
         "_deepnote_index_column": 38422
        },
        {
         "diesel": 0,
         "electric": 0,
         "gasoline": 1,
         "_deepnote_index_column": 38423
        },
        {
         "diesel": 1,
         "electric": 0,
         "gasoline": 0,
         "_deepnote_index_column": 38424
        },
        {
         "diesel": 0,
         "electric": 0,
         "gasoline": 1,
         "_deepnote_index_column": 38425
        },
        {
         "diesel": 0,
         "electric": 0,
         "gasoline": 1,
         "_deepnote_index_column": 38426
        },
        {
         "diesel": 1,
         "electric": 0,
         "gasoline": 0,
         "_deepnote_index_column": 38427
        },
        {
         "diesel": 0,
         "electric": 0,
         "gasoline": 1,
         "_deepnote_index_column": 38428
        },
        {
         "diesel": 0,
         "electric": 0,
         "gasoline": 1,
         "_deepnote_index_column": 38429
        },
        {
         "diesel": 0,
         "electric": 0,
         "gasoline": 1,
         "_deepnote_index_column": 38430
        },
        {
         "diesel": 0,
         "electric": 0,
         "gasoline": 1,
         "_deepnote_index_column": 38431
        },
        {
         "diesel": 1,
         "electric": 0,
         "gasoline": 0,
         "_deepnote_index_column": 38432
        },
        {
         "diesel": 0,
         "electric": 0,
         "gasoline": 1,
         "_deepnote_index_column": 38433
        },
        {
         "diesel": 0,
         "electric": 0,
         "gasoline": 1,
         "_deepnote_index_column": 38434
        },
        {
         "diesel": 0,
         "electric": 0,
         "gasoline": 1,
         "_deepnote_index_column": 38435
        },
        {
         "diesel": 0,
         "electric": 0,
         "gasoline": 1,
         "_deepnote_index_column": 38436
        },
        {
         "diesel": 0,
         "electric": 0,
         "gasoline": 1,
         "_deepnote_index_column": 38437
        },
        {
         "diesel": 1,
         "electric": 0,
         "gasoline": 0,
         "_deepnote_index_column": 38438
        },
        {
         "diesel": 0,
         "electric": 0,
         "gasoline": 1,
         "_deepnote_index_column": 38439
        },
        {
         "diesel": 0,
         "electric": 0,
         "gasoline": 1,
         "_deepnote_index_column": 38440
        },
        {
         "diesel": 1,
         "electric": 0,
         "gasoline": 0,
         "_deepnote_index_column": 38441
        },
        {
         "diesel": 0,
         "electric": 0,
         "gasoline": 1,
         "_deepnote_index_column": 38442
        },
        {
         "diesel": 0,
         "electric": 0,
         "gasoline": 1,
         "_deepnote_index_column": 38443
        },
        {
         "diesel": 1,
         "electric": 0,
         "gasoline": 0,
         "_deepnote_index_column": 38444
        },
        {
         "diesel": 0,
         "electric": 0,
         "gasoline": 1,
         "_deepnote_index_column": 38445
        },
        {
         "diesel": 0,
         "electric": 0,
         "gasoline": 1,
         "_deepnote_index_column": 38446
        },
        {
         "diesel": 0,
         "electric": 0,
         "gasoline": 1,
         "_deepnote_index_column": 38447
        },
        {
         "diesel": 0,
         "electric": 0,
         "gasoline": 1,
         "_deepnote_index_column": 38448
        },
        {
         "diesel": 0,
         "electric": 0,
         "gasoline": 1,
         "_deepnote_index_column": 38449
        },
        {
         "diesel": 0,
         "electric": 0,
         "gasoline": 1,
         "_deepnote_index_column": 38450
        },
        {
         "diesel": 1,
         "electric": 0,
         "gasoline": 0,
         "_deepnote_index_column": 38451
        },
        {
         "diesel": 0,
         "electric": 0,
         "gasoline": 1,
         "_deepnote_index_column": 38452
        },
        {
         "diesel": 0,
         "electric": 0,
         "gasoline": 1,
         "_deepnote_index_column": 38453
        },
        {
         "diesel": 0,
         "electric": 0,
         "gasoline": 1,
         "_deepnote_index_column": 38454
        },
        {
         "diesel": 0,
         "electric": 0,
         "gasoline": 1,
         "_deepnote_index_column": 38455
        },
        {
         "diesel": 0,
         "electric": 0,
         "gasoline": 1,
         "_deepnote_index_column": 38456
        },
        {
         "diesel": 0,
         "electric": 0,
         "gasoline": 1,
         "_deepnote_index_column": 38457
        },
        {
         "diesel": 0,
         "electric": 0,
         "gasoline": 1,
         "_deepnote_index_column": 38458
        },
        {
         "diesel": 0,
         "electric": 0,
         "gasoline": 1,
         "_deepnote_index_column": 38459
        },
        {
         "diesel": 0,
         "electric": 0,
         "gasoline": 1,
         "_deepnote_index_column": 38460
        },
        {
         "diesel": 0,
         "electric": 0,
         "gasoline": 1,
         "_deepnote_index_column": 38461
        },
        {
         "diesel": 0,
         "electric": 0,
         "gasoline": 1,
         "_deepnote_index_column": 38462
        },
        {
         "diesel": 0,
         "electric": 0,
         "gasoline": 1,
         "_deepnote_index_column": 38463
        },
        {
         "diesel": 0,
         "electric": 0,
         "gasoline": 1,
         "_deepnote_index_column": 38464
        },
        {
         "diesel": 0,
         "electric": 0,
         "gasoline": 1,
         "_deepnote_index_column": 38465
        },
        {
         "diesel": 0,
         "electric": 0,
         "gasoline": 1,
         "_deepnote_index_column": 38466
        },
        {
         "diesel": 0,
         "electric": 0,
         "gasoline": 1,
         "_deepnote_index_column": 38467
        },
        {
         "diesel": 0,
         "electric": 0,
         "gasoline": 1,
         "_deepnote_index_column": 38468
        },
        {
         "diesel": 0,
         "electric": 0,
         "gasoline": 1,
         "_deepnote_index_column": 38469
        },
        {
         "diesel": 0,
         "electric": 0,
         "gasoline": 1,
         "_deepnote_index_column": 38470
        },
        {
         "diesel": 1,
         "electric": 0,
         "gasoline": 0,
         "_deepnote_index_column": 38471
        },
        {
         "diesel": 0,
         "electric": 0,
         "gasoline": 1,
         "_deepnote_index_column": 38472
        },
        {
         "diesel": 1,
         "electric": 0,
         "gasoline": 0,
         "_deepnote_index_column": 38473
        },
        {
         "diesel": 0,
         "electric": 0,
         "gasoline": 1,
         "_deepnote_index_column": 38474
        },
        {
         "diesel": 0,
         "electric": 0,
         "gasoline": 1,
         "_deepnote_index_column": 38475
        },
        {
         "diesel": 1,
         "electric": 0,
         "gasoline": 0,
         "_deepnote_index_column": 38476
        },
        {
         "diesel": 0,
         "electric": 0,
         "gasoline": 1,
         "_deepnote_index_column": 38477
        },
        {
         "diesel": 0,
         "electric": 0,
         "gasoline": 1,
         "_deepnote_index_column": 38478
        },
        {
         "diesel": 0,
         "electric": 0,
         "gasoline": 1,
         "_deepnote_index_column": 38479
        },
        {
         "diesel": 0,
         "electric": 0,
         "gasoline": 1,
         "_deepnote_index_column": 38480
        },
        {
         "diesel": 0,
         "electric": 0,
         "gasoline": 1,
         "_deepnote_index_column": 38481
        },
        {
         "diesel": 0,
         "electric": 0,
         "gasoline": 1,
         "_deepnote_index_column": 38482
        },
        {
         "diesel": 0,
         "electric": 0,
         "gasoline": 1,
         "_deepnote_index_column": 38483
        },
        {
         "diesel": 1,
         "electric": 0,
         "gasoline": 0,
         "_deepnote_index_column": 38484
        },
        {
         "diesel": 0,
         "electric": 0,
         "gasoline": 1,
         "_deepnote_index_column": 38485
        },
        {
         "diesel": 0,
         "electric": 0,
         "gasoline": 1,
         "_deepnote_index_column": 38486
        },
        {
         "diesel": 0,
         "electric": 0,
         "gasoline": 1,
         "_deepnote_index_column": 38487
        },
        {
         "diesel": 1,
         "electric": 0,
         "gasoline": 0,
         "_deepnote_index_column": 38488
        },
        {
         "diesel": 0,
         "electric": 0,
         "gasoline": 1,
         "_deepnote_index_column": 38489
        },
        {
         "diesel": 0,
         "electric": 0,
         "gasoline": 1,
         "_deepnote_index_column": 38490
        },
        {
         "diesel": 0,
         "electric": 0,
         "gasoline": 1,
         "_deepnote_index_column": 38491
        },
        {
         "diesel": 1,
         "electric": 0,
         "gasoline": 0,
         "_deepnote_index_column": 38492
        },
        {
         "diesel": 0,
         "electric": 0,
         "gasoline": 1,
         "_deepnote_index_column": 38493
        },
        {
         "diesel": 1,
         "electric": 0,
         "gasoline": 0,
         "_deepnote_index_column": 38494
        },
        {
         "diesel": 0,
         "electric": 0,
         "gasoline": 1,
         "_deepnote_index_column": 38495
        },
        {
         "diesel": 0,
         "electric": 0,
         "gasoline": 1,
         "_deepnote_index_column": 38496
        },
        {
         "diesel": 0,
         "electric": 0,
         "gasoline": 1,
         "_deepnote_index_column": 38497
        },
        {
         "diesel": 0,
         "electric": 0,
         "gasoline": 1,
         "_deepnote_index_column": 38498
        },
        {
         "diesel": 0,
         "electric": 0,
         "gasoline": 1,
         "_deepnote_index_column": 38499
        },
        {
         "diesel": 0,
         "electric": 0,
         "gasoline": 1,
         "_deepnote_index_column": 38500
        },
        {
         "diesel": 0,
         "electric": 0,
         "gasoline": 1,
         "_deepnote_index_column": 38501
        },
        {
         "diesel": 0,
         "electric": 0,
         "gasoline": 1,
         "_deepnote_index_column": 38502
        },
        {
         "diesel": 0,
         "electric": 0,
         "gasoline": 1,
         "_deepnote_index_column": 38503
        },
        {
         "diesel": 1,
         "electric": 0,
         "gasoline": 0,
         "_deepnote_index_column": 38504
        },
        {
         "diesel": 0,
         "electric": 0,
         "gasoline": 1,
         "_deepnote_index_column": 38505
        },
        {
         "diesel": 1,
         "electric": 0,
         "gasoline": 0,
         "_deepnote_index_column": 38506
        },
        {
         "diesel": 1,
         "electric": 0,
         "gasoline": 0,
         "_deepnote_index_column": 38507
        },
        {
         "diesel": 0,
         "electric": 0,
         "gasoline": 1,
         "_deepnote_index_column": 38508
        },
        {
         "diesel": 0,
         "electric": 0,
         "gasoline": 1,
         "_deepnote_index_column": 38509
        },
        {
         "diesel": 0,
         "electric": 0,
         "gasoline": 1,
         "_deepnote_index_column": 38510
        },
        {
         "diesel": 0,
         "electric": 0,
         "gasoline": 1,
         "_deepnote_index_column": 38511
        },
        {
         "diesel": 0,
         "electric": 0,
         "gasoline": 1,
         "_deepnote_index_column": 38512
        },
        {
         "diesel": 0,
         "electric": 0,
         "gasoline": 1,
         "_deepnote_index_column": 38513
        },
        {
         "diesel": 0,
         "electric": 0,
         "gasoline": 1,
         "_deepnote_index_column": 38514
        },
        {
         "diesel": 0,
         "electric": 0,
         "gasoline": 1,
         "_deepnote_index_column": 38515
        },
        {
         "diesel": 0,
         "electric": 0,
         "gasoline": 1,
         "_deepnote_index_column": 38516
        },
        {
         "diesel": 1,
         "electric": 0,
         "gasoline": 0,
         "_deepnote_index_column": 38517
        },
        {
         "diesel": 0,
         "electric": 0,
         "gasoline": 1,
         "_deepnote_index_column": 38518
        },
        {
         "diesel": 0,
         "electric": 0,
         "gasoline": 1,
         "_deepnote_index_column": 38519
        },
        {
         "diesel": 1,
         "electric": 0,
         "gasoline": 0,
         "_deepnote_index_column": 38520
        },
        {
         "diesel": 0,
         "electric": 0,
         "gasoline": 1,
         "_deepnote_index_column": 38521
        },
        {
         "diesel": 0,
         "electric": 0,
         "gasoline": 1,
         "_deepnote_index_column": 38522
        },
        {
         "diesel": 1,
         "electric": 0,
         "gasoline": 0,
         "_deepnote_index_column": 38523
        },
        {
         "diesel": 0,
         "electric": 0,
         "gasoline": 1,
         "_deepnote_index_column": 38524
        },
        {
         "diesel": 0,
         "electric": 0,
         "gasoline": 1,
         "_deepnote_index_column": 38525
        },
        {
         "diesel": 0,
         "electric": 0,
         "gasoline": 1,
         "_deepnote_index_column": 38526
        },
        {
         "diesel": 1,
         "electric": 0,
         "gasoline": 0,
         "_deepnote_index_column": 38527
        },
        {
         "diesel": 0,
         "electric": 0,
         "gasoline": 1,
         "_deepnote_index_column": 38528
        },
        {
         "diesel": 0,
         "electric": 0,
         "gasoline": 1,
         "_deepnote_index_column": 38529
        },
        {
         "diesel": 0,
         "electric": 0,
         "gasoline": 1,
         "_deepnote_index_column": 38530
        }
       ]
      },
      "text/plain": "       diesel  electric  gasoline\n0           0         0         1\n1           0         0         1\n2           0         0         1\n3           0         0         1\n4           0         0         1\n...       ...       ...       ...\n38526       0         0         1\n38527       1         0         0\n38528       0         0         1\n38529       0         0         1\n38530       0         0         1\n\n[38531 rows x 3 columns]",
      "text/html": "<div>\n<style scoped>\n    .dataframe tbody tr th:only-of-type {\n        vertical-align: middle;\n    }\n\n    .dataframe tbody tr th {\n        vertical-align: top;\n    }\n\n    .dataframe thead th {\n        text-align: right;\n    }\n</style>\n<table border=\"1\" class=\"dataframe\">\n  <thead>\n    <tr style=\"text-align: right;\">\n      <th></th>\n      <th>diesel</th>\n      <th>electric</th>\n      <th>gasoline</th>\n    </tr>\n  </thead>\n  <tbody>\n    <tr>\n      <th>0</th>\n      <td>0</td>\n      <td>0</td>\n      <td>1</td>\n    </tr>\n    <tr>\n      <th>1</th>\n      <td>0</td>\n      <td>0</td>\n      <td>1</td>\n    </tr>\n    <tr>\n      <th>2</th>\n      <td>0</td>\n      <td>0</td>\n      <td>1</td>\n    </tr>\n    <tr>\n      <th>3</th>\n      <td>0</td>\n      <td>0</td>\n      <td>1</td>\n    </tr>\n    <tr>\n      <th>4</th>\n      <td>0</td>\n      <td>0</td>\n      <td>1</td>\n    </tr>\n    <tr>\n      <th>...</th>\n      <td>...</td>\n      <td>...</td>\n      <td>...</td>\n    </tr>\n    <tr>\n      <th>38526</th>\n      <td>0</td>\n      <td>0</td>\n      <td>1</td>\n    </tr>\n    <tr>\n      <th>38527</th>\n      <td>1</td>\n      <td>0</td>\n      <td>0</td>\n    </tr>\n    <tr>\n      <th>38528</th>\n      <td>0</td>\n      <td>0</td>\n      <td>1</td>\n    </tr>\n    <tr>\n      <th>38529</th>\n      <td>0</td>\n      <td>0</td>\n      <td>1</td>\n    </tr>\n    <tr>\n      <th>38530</th>\n      <td>0</td>\n      <td>0</td>\n      <td>1</td>\n    </tr>\n  </tbody>\n</table>\n<p>38531 rows × 3 columns</p>\n</div>"
     },
     "metadata": {}
    }
   ],
   "execution_count": null
  },
  {
   "cell_type": "markdown",
   "source": "## Encoding categorical features\n\nFor more information visit [Encoding categorical features](https://scikit-learn.org/stable/modules/preprocessing.html#encoding-categorical-features).",
   "metadata": {
    "tags": [],
    "cell_id": "00004-6a419ac9-4bcb-4c4a-8658-0775fae3cf7d",
    "deepnote_cell_type": "markdown"
   }
  },
  {
   "cell_type": "code",
   "source": "import sklearn.preprocessing as preprocessing\n\nencoder = preprocessing.OneHotEncoder(handle_unknown='ignore')",
   "metadata": {
    "tags": [],
    "cell_id": "00005-8b6e2c67-7ac7-442c-955c-ed83c1467727",
    "deepnote_to_be_reexecuted": false,
    "source_hash": "42ea23c9",
    "execution_start": 1626558368261,
    "execution_millis": 38,
    "deepnote_cell_type": "code"
   },
   "outputs": [],
   "execution_count": null
  },
  {
   "cell_type": "code",
   "source": "encoder.fit(cars_data[['engine_type']].values)",
   "metadata": {
    "tags": [],
    "cell_id": "00006-2361fe87-5807-4733-93ac-699796251390",
    "deepnote_to_be_reexecuted": false,
    "source_hash": "9fc565d7",
    "execution_start": 1626558415172,
    "execution_millis": 42,
    "deepnote_cell_type": "code"
   },
   "outputs": [
    {
     "output_type": "execute_result",
     "execution_count": 6,
     "data": {
      "text/plain": "OneHotEncoder(handle_unknown='ignore')"
     },
     "metadata": {}
    }
   ],
   "execution_count": null
  },
  {
   "cell_type": "code",
   "source": "encoder.transform([['gasoline'],['diesel'],['aceite']]).toarray()",
   "metadata": {
    "tags": [],
    "cell_id": "00007-8e61061a-a6e0-499f-b8ad-5247f90badf4",
    "deepnote_to_be_reexecuted": false,
    "source_hash": "ea0aa29e",
    "execution_start": 1626558500009,
    "execution_millis": 16,
    "deepnote_cell_type": "code"
   },
   "outputs": [
    {
     "output_type": "execute_result",
     "execution_count": 7,
     "data": {
      "text/plain": "array([[0., 0., 1.],\n       [1., 0., 0.],\n       [0., 0., 0.]])"
     },
     "metadata": {}
    }
   ],
   "execution_count": null
  },
  {
   "cell_type": "markdown",
   "source": "Numerical values can be treated as categorical. ",
   "metadata": {
    "tags": [],
    "cell_id": "00008-74761d90-0e63-4787-b5a8-52144b6713ab",
    "deepnote_cell_type": "markdown"
   }
  },
  {
   "cell_type": "code",
   "source": "encoder.fit(cars_data[['year_produced']].values)",
   "metadata": {
    "tags": [],
    "cell_id": "00009-0a6f4fd5-1607-41d2-8cc6-068a561d9948",
    "deepnote_to_be_reexecuted": false,
    "source_hash": "27abfb4",
    "execution_start": 1626558638486,
    "execution_millis": 41,
    "deepnote_cell_type": "code"
   },
   "outputs": [
    {
     "output_type": "execute_result",
     "execution_count": 8,
     "data": {
      "text/plain": "OneHotEncoder(handle_unknown='ignore')"
     },
     "metadata": {}
    }
   ],
   "execution_count": null
  },
  {
   "cell_type": "code",
   "source": "encoder.transform([[2016],[2009],[1990]]).toarray()",
   "metadata": {
    "tags": [],
    "cell_id": "00010-5216e77e-ece1-44a9-a229-63252679a69b",
    "deepnote_to_be_reexecuted": false,
    "source_hash": "829b4df1",
    "execution_start": 1626558675527,
    "execution_millis": 18,
    "deepnote_cell_type": "code"
   },
   "outputs": [
    {
     "output_type": "execute_result",
     "execution_count": 9,
     "data": {
      "text/plain": "array([[0., 0., 0., 0., 0., 0., 0., 0., 0., 0., 0., 0., 0., 0., 0., 0.,\n        0., 0., 0., 0., 0., 0., 0., 0., 0., 0., 0., 0., 0., 0., 0., 0.,\n        0., 0., 0., 0., 0., 0., 0., 0., 0., 0., 0., 0., 0., 0., 0., 0.,\n        0., 0., 0., 0., 0., 0., 0., 0., 0., 0., 0., 0., 1., 0., 0., 0.],\n       [0., 0., 0., 0., 0., 0., 0., 0., 0., 0., 0., 0., 0., 0., 0., 0.,\n        0., 0., 0., 0., 0., 0., 0., 0., 0., 0., 0., 0., 0., 0., 0., 0.,\n        0., 0., 0., 0., 0., 0., 0., 0., 0., 0., 0., 0., 0., 0., 0., 0.,\n        0., 0., 0., 0., 0., 1., 0., 0., 0., 0., 0., 0., 0., 0., 0., 0.],\n       [0., 0., 0., 0., 0., 0., 0., 0., 0., 0., 0., 0., 0., 0., 0., 0.,\n        0., 0., 0., 0., 0., 0., 0., 0., 0., 0., 0., 0., 0., 0., 0., 0.,\n        0., 0., 1., 0., 0., 0., 0., 0., 0., 0., 0., 0., 0., 0., 0., 0.,\n        0., 0., 0., 0., 0., 0., 0., 0., 0., 0., 0., 0., 0., 0., 0., 0.]])"
     },
     "metadata": {}
    }
   ],
   "execution_count": null
  },
  {
   "cell_type": "markdown",
   "source": "<a style='text-decoration:none;line-height:16px;display:flex;color:#5B5B62;padding:10px;justify-content:end;' href='https://deepnote.com?utm_source=created-in-deepnote-cell&projectId=36c54c60-6e31-4b99-9692-c642be612235' target=\"_blank\">\n<img alt='Created in deepnote.com' style='display:inline;max-height:16px;margin:0px;margin-right:7.5px;' src='data:image/svg+xml;base64,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' > </img>\nCreated in <span style='font-weight:600;margin-left:4px;'>Deepnote</span></a>",
   "metadata": {
    "tags": [],
    "created_in_deepnote_cell": true,
    "deepnote_cell_type": "markdown"
   }
  }
 ],
 "nbformat": 4,
 "nbformat_minor": 2,
 "metadata": {
  "orig_nbformat": 2,
  "deepnote": {
   "is_reactive": false
  },
  "deepnote_notebook_id": "31026c65-96e5-4c74-851f-d6834c252028",
  "deepnote_execution_queue": []
 }
}