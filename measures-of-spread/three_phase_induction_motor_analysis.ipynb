{
 "cells": [
  {
   "cell_type": "markdown",
   "source": "# Three-phase induction motor\n## Measures of spread\n\nHere, some measures of spread are used (along with Python) to analyze data obtained from a Simulink simulation of a three-phase induction motor. ",
   "metadata": {
    "tags": [],
    "cell_id": "00001-a925de56-4371-450f-812e-0e901b60022b",
    "deepnote_cell_type": "markdown"
   }
  },
  {
   "cell_type": "code",
   "source": "import pandas as pd\nimport matplotlib.pyplot as plt\nimport seaborn as sns\n\nmotor_data = pd.read_csv('./three_phase_induction_motor.csv')",
   "metadata": {
    "tags": [],
    "cell_id": "00001-e15299e5-2a27-43f9-888f-f36e58d8bedd",
    "deepnote_to_be_reexecuted": false,
    "source_hash": "28922881",
    "execution_start": 1626401537238,
    "execution_millis": 1483,
    "deepnote_cell_type": "code"
   },
   "outputs": [],
   "execution_count": null
  },
  {
   "cell_type": "markdown",
   "source": "Remember it is possible to get some of the most important measures of central tendency and spread using the `describe()` function (it works for the entire table or just for one column). However, here we are interested in getting those measures using other functions. So, let's start calculating the mean value of each column of the dataset.",
   "metadata": {
    "tags": [],
    "cell_id": "00002-f70eb4b4-e4bb-4cba-bb01-48ce9720be47",
    "deepnote_cell_type": "markdown"
   }
  },
  {
   "cell_type": "code",
   "source": "print(f\"Mean value of load factor: \", motor_data['load_factor'].mean())\nprint(f\"Mean value of efficiency: \", motor_data['efficiency'].mean())\nprint(f\"Mean value of electric current: \", motor_data['electric_current'].mean())\nprint(f\"Mean value of power factor: \", motor_data['power_factor'].mean())\nprint(f\"Mean value of slip: \", motor_data['slip'].mean())",
   "metadata": {
    "tags": [],
    "cell_id": "00003-cc0ab72c-84a5-4b64-a249-19860a5b4a70",
    "deepnote_to_be_reexecuted": false,
    "source_hash": "2507546",
    "execution_start": 1626401538735,
    "execution_millis": 13,
    "deepnote_cell_type": "code"
   },
   "outputs": [
    {
     "name": "stdout",
     "text": "Mean value of load factor:  81.09833333333334\nMean value of efficiency:  89.545\nMean value of electric current:  20.338333333333335\nMean value of power factor:  0.7641666666666667\nMean value of slip:  0.9258333333333334\n",
     "output_type": "stream"
    }
   ],
   "execution_count": null
  },
  {
   "cell_type": "markdown",
   "source": "## Standard deviation\n\nThe function `std()` calculates the **sample** standard deviation of a given dataset. ",
   "metadata": {
    "tags": [],
    "cell_id": "00002-d0199f7c-f0b4-41e3-8d94-ab6b4fd21942",
    "deepnote_cell_type": "markdown"
   }
  },
  {
   "cell_type": "code",
   "source": "columns_names = list(motor_data)\n\ncolumns_names.remove('torque')\n\nstd_values = {}\n\nfor column_name in columns_names:\n\n    std_values[column_name] = motor_data[column_name].std()\n\nfor column_name, std_value in std_values.items():\n\n    print(f'{column_name} standard deviation: {std_value}')",
   "metadata": {
    "tags": [],
    "cell_id": "00005-a1cf9c56-d24f-45a9-a0ed-d2f40bdac099",
    "deepnote_to_be_reexecuted": false,
    "source_hash": "72667b77",
    "execution_start": 1626401538742,
    "execution_millis": 18,
    "deepnote_cell_type": "code"
   },
   "outputs": [
    {
     "name": "stdout",
     "text": "load_factor standard deviation: 44.62177695686131\nefficiency standard deviation: 5.78938762658963\nelectric_current standard deviation: 8.080006563153649\npower_factor standard deviation: 0.17701866020452778\nslip standard deviation: 0.6148090366245046\n",
     "output_type": "stream"
    }
   ],
   "execution_count": null
  },
  {
   "cell_type": "markdown",
   "source": "## Range\n\nThe **range** is the difference between the largest and smallest values in a dataset. The functions `max()` and `min()` can be used to calculate it. ",
   "metadata": {
    "tags": [],
    "cell_id": "00015-a5f54018-12cb-45b1-9215-2741a270623f",
    "deepnote_cell_type": "markdown"
   }
  },
  {
   "cell_type": "code",
   "source": "columns_names = list(motor_data)\n\ncolumns_names.remove('torque')\n\nrange_values = {}\n\nfor column_name in columns_names:\n\n    range_values[column_name] = motor_data[column_name].max() - motor_data[column_name].min()\n\nfor column_name, range_value in range_values.items():\n\n    print(f'{column_name} range value: {range_value}')",
   "metadata": {
    "tags": [],
    "cell_id": "00016-6a8f3191-2870-41dc-8136-efc5bfa83ee3",
    "deepnote_to_be_reexecuted": false,
    "source_hash": "3c883a0f",
    "execution_start": 1626401538763,
    "execution_millis": 7,
    "deepnote_cell_type": "code"
   },
   "outputs": [
    {
     "name": "stdout",
     "text": "load_factor range value: 136.11\nefficiency range value: 19.650000000000006\nelectric_current range value: 24.009999999999998\npower_factor range value: 0.56\nslip range value: 1.89\n",
     "output_type": "stream"
    }
   ],
   "execution_count": null
  },
  {
   "cell_type": "markdown",
   "source": "",
   "metadata": {
    "tags": [],
    "cell_id": "00008-4d4a48b0-1b9a-4526-afa0-2b78a27d5231",
    "deepnote_cell_type": "markdown"
   }
  },
  {
   "cell_type": "markdown",
   "source": "## Quartiles",
   "metadata": {
    "tags": [],
    "cell_id": "00009-d412a289-26db-4859-8e87-9dab2b7f13a9",
    "deepnote_cell_type": "markdown"
   }
  },
  {
   "cell_type": "code",
   "source": "columns_names = list(motor_data)\n\ncolumns_names.remove('torque')\n\nquartiles = {}\n\nfor column_name in columns_names:\n\n    Q1 = motor_data[column_name].quantile(q=0.25)\n    Q2 = motor_data[column_name].quantile(q=0.5)\n    Q3 = motor_data[column_name].quantile(q=0.75)\n    IQR = Q3 - Q1\n    min_value = motor_data[column_name].quantile(q=0)\n    max_value = motor_data[column_name].quantile(q=1)\n    median_value = motor_data[column_name].median()\n\n    quartiles[column_name] = {\n        'Q1': Q1,\n        'Q2': Q2,\n        'Q3': Q3,\n        'IQR': IQR,\n        'median': median_value,\n        'min_value': min_value,\n        'max_value': max_value\n    }\n\nquartiles",
   "metadata": {
    "tags": [],
    "cell_id": "00010-26efb490-050f-45ce-b99a-3039d2ba9fd1",
    "deepnote_to_be_reexecuted": false,
    "source_hash": "ff6971a8",
    "execution_start": 1626401538814,
    "execution_millis": 4,
    "deepnote_cell_type": "code"
   },
   "outputs": [
    {
     "output_type": "execute_result",
     "execution_count": 5,
     "data": {
      "text/plain": "{'load_factor': {'Q1': 47.1525,\n  'Q2': 81.34,\n  'Q3': 115.2525,\n  'IQR': 68.1,\n  'median': 81.34,\n  'min_value': 12.63,\n  'max_value': 148.74},\n 'efficiency': {'Q1': 89.87500000000001,\n  'Q2': 92.17500000000001,\n  'Q3': 92.5325,\n  'IQR': 2.6574999999999847,\n  'median': 92.17500000000001,\n  'min_value': 73.03,\n  'max_value': 92.68},\n 'electric_current': {'Q1': 13.705,\n  'Q2': 19.619999999999997,\n  'Q3': 26.34,\n  'IQR': 12.635,\n  'median': 19.619999999999997,\n  'min_value': 9.64,\n  'max_value': 33.65},\n 'power_factor': {'Q1': 0.7174999999999999,\n  'Q2': 0.845,\n  'Q3': 0.8825000000000001,\n  'IQR': 0.16500000000000015,\n  'median': 0.845,\n  'min_value': 0.34,\n  'max_value': 0.9},\n 'slip': {'Q1': 0.4575,\n  'Q2': 0.915,\n  'Q3': 1.3725,\n  'IQR': 0.915,\n  'median': 0.915,\n  'min_value': 0.0,\n  'max_value': 1.89}}"
     },
     "metadata": {}
    }
   ],
   "execution_count": null
  },
  {
   "cell_type": "markdown",
   "source": "## Data Visualization\n### Histogram and box plot",
   "metadata": {
    "tags": [],
    "cell_id": "00011-397b0b5c-ea7b-4405-96cf-669cd8e5fec7",
    "deepnote_cell_type": "markdown"
   }
  },
  {
   "cell_type": "markdown",
   "source": "**Load factor**",
   "metadata": {
    "tags": [],
    "cell_id": "00013-84f0d5cb-2998-4b67-b228-f2b155447525",
    "deepnote_cell_type": "markdown"
   }
  },
  {
   "cell_type": "code",
   "source": "sns.histplot(motor_data['load_factor'])",
   "metadata": {
    "tags": [],
    "cell_id": "00013-758cf684-5fa0-450e-897c-58dda2b52631",
    "deepnote_to_be_reexecuted": false,
    "source_hash": "a6f9d499",
    "execution_start": 1626401683584,
    "execution_millis": 246,
    "deepnote_cell_type": "code"
   },
   "outputs": [
    {
     "output_type": "execute_result",
     "execution_count": 8,
     "data": {
      "text/plain": "<AxesSubplot:xlabel='load_factor', ylabel='Count'>"
     },
     "metadata": {}
    },
    {
     "data": {
      "text/plain": "<Figure size 432x288 with 1 Axes>",
      "image/png": "[encoded data removed]"
     },
     "metadata": {
      "needs_background": "light",
      "image/png": {
       "width": 386,
       "height": 263
      }
     },
     "output_type": "display_data"
    }
   ],
   "execution_count": null
  },
  {
   "cell_type": "code",
   "source": "sns.boxplot(motor_data['load_factor'])",
   "metadata": {
    "tags": [],
    "cell_id": "00014-40427225-d412-4f41-afc3-4c014d638151",
    "deepnote_to_be_reexecuted": false,
    "source_hash": "79fed6dc",
    "execution_start": 1626401695983,
    "execution_millis": 184,
    "deepnote_cell_type": "code"
   },
   "outputs": [
    {
     "name": "stderr",
     "text": "/shared-libs/python3.7/py/lib/python3.7/site-packages/seaborn/_decorators.py:43: FutureWarning: Pass the following variable as a keyword arg: x. From version 0.12, the only valid positional argument will be `data`, and passing other arguments without an explicit keyword will result in an error or misinterpretation.\n  FutureWarning\n",
     "output_type": "stream"
    },
    {
     "output_type": "execute_result",
     "execution_count": 9,
     "data": {
      "text/plain": "<AxesSubplot:xlabel='load_factor'>"
     },
     "metadata": {}
    },
    {
     "data": {
      "text/plain": "<Figure size 432x288 with 1 Axes>",
      "image/png": "[encoded data removed]"
     },
     "metadata": {
      "needs_background": "light",
      "image/png": {
       "width": 352,
       "height": 263
      }
     },
     "output_type": "display_data"
    }
   ],
   "execution_count": null
  },
  {
   "cell_type": "markdown",
   "source": "**Efficiency**",
   "metadata": {
    "tags": [],
    "cell_id": "00014-98e105c2-1a34-4a59-bc32-794bd9108d23",
    "deepnote_cell_type": "markdown"
   }
  },
  {
   "cell_type": "code",
   "source": "sns.histplot(motor_data['efficiency'])",
   "metadata": {
    "tags": [],
    "cell_id": "00016-01c62b14-1b00-4526-bd05-69a762a60b48",
    "deepnote_to_be_reexecuted": false,
    "source_hash": "98a8289c",
    "execution_start": 1626401725467,
    "execution_millis": 431,
    "deepnote_cell_type": "code"
   },
   "outputs": [
    {
     "output_type": "execute_result",
     "execution_count": 10,
     "data": {
      "text/plain": "<AxesSubplot:xlabel='efficiency', ylabel='Count'>"
     },
     "metadata": {}
    },
    {
     "data": {
      "text/plain": "<Figure size 432x288 with 1 Axes>",
      "image/png": "[encoded data removed]"
     },
     "metadata": {
      "needs_background": "light",
      "image/png": {
       "width": 376,
       "height": 262
      }
     },
     "output_type": "display_data"
    }
   ],
   "execution_count": null
  },
  {
   "cell_type": "code",
   "source": "sns.boxplot(motor_data['efficiency'])",
   "metadata": {
    "tags": [],
    "cell_id": "00017-c2a5f41c-e4c2-497a-837f-e982277f8b0e",
    "deepnote_to_be_reexecuted": false,
    "source_hash": "5d24a39",
    "execution_start": 1626401745996,
    "execution_millis": 147,
    "deepnote_cell_type": "code"
   },
   "outputs": [
    {
     "name": "stderr",
     "text": "/shared-libs/python3.7/py/lib/python3.7/site-packages/seaborn/_decorators.py:43: FutureWarning: Pass the following variable as a keyword arg: x. From version 0.12, the only valid positional argument will be `data`, and passing other arguments without an explicit keyword will result in an error or misinterpretation.\n  FutureWarning\n",
     "output_type": "stream"
    },
    {
     "output_type": "execute_result",
     "execution_count": 11,
     "data": {
      "text/plain": "<AxesSubplot:xlabel='efficiency'>"
     },
     "metadata": {}
    },
    {
     "data": {
      "text/plain": "<Figure size 432x288 with 1 Axes>",
      "image/png": "[encoded data removed]"
     },
     "metadata": {
      "needs_background": "light",
      "image/png": {
       "width": 353,
       "height": 262
      }
     },
     "output_type": "display_data"
    }
   ],
   "execution_count": null
  },
  {
   "cell_type": "markdown",
   "source": "**Electric current**",
   "metadata": {
    "tags": [],
    "cell_id": "00018-b0c94505-f77f-467e-9553-fa936e448efb",
    "deepnote_cell_type": "markdown"
   }
  },
  {
   "cell_type": "code",
   "source": "sns.histplot(motor_data['electric_current'])",
   "metadata": {
    "tags": [],
    "cell_id": "00019-db5e4cb4-5720-4799-a874-fa2f8ab29b70",
    "deepnote_to_be_reexecuted": false,
    "source_hash": "33b7bc25",
    "execution_start": 1626401801295,
    "execution_millis": 238,
    "deepnote_cell_type": "code"
   },
   "outputs": [
    {
     "output_type": "execute_result",
     "execution_count": 12,
     "data": {
      "text/plain": "<AxesSubplot:xlabel='electric_current', ylabel='Count'>"
     },
     "metadata": {}
    },
    {
     "data": {
      "text/plain": "<Figure size 432x288 with 1 Axes>",
      "image/png": "[encoded data removed]"
     },
     "metadata": {
      "needs_background": "light",
      "image/png": {
       "width": 386,
       "height": 263
      }
     },
     "output_type": "display_data"
    }
   ],
   "execution_count": null
  },
  {
   "cell_type": "code",
   "source": "sns.boxplot(x=motor_data['electric_current'])",
   "metadata": {
    "tags": [],
    "cell_id": "00020-ce7e4fb1-5962-4498-9f58-8b24f3639c3f",
    "deepnote_to_be_reexecuted": false,
    "source_hash": "45e87ade",
    "execution_start": 1626402826285,
    "execution_millis": 115,
    "deepnote_cell_type": "code"
   },
   "outputs": [
    {
     "output_type": "execute_result",
     "execution_count": 23,
     "data": {
      "text/plain": "<AxesSubplot:xlabel='electric_current'>"
     },
     "metadata": {}
    },
    {
     "data": {
      "text/plain": "<Figure size 432x288 with 1 Axes>",
      "image/png": "[encoded data removed]"
     },
     "metadata": {
      "needs_background": "light",
      "image/png": {
       "width": 352,
       "height": 263
      }
     },
     "output_type": "display_data"
    }
   ],
   "execution_count": null
  },
  {
   "cell_type": "markdown",
   "source": "**Power factor**",
   "metadata": {
    "tags": [],
    "cell_id": "00021-2ddcfce9-8a85-4015-b800-b9fe3af7e032",
    "deepnote_cell_type": "markdown"
   }
  },
  {
   "cell_type": "code",
   "source": "sns.histplot(motor_data['power_factor'])",
   "metadata": {
    "tags": [],
    "cell_id": "00022-482f356b-a282-4ff6-863b-4c57568591f5",
    "deepnote_to_be_reexecuted": false,
    "source_hash": "50eb6d61",
    "execution_start": 1626401878542,
    "execution_millis": 218,
    "deepnote_cell_type": "code"
   },
   "outputs": [
    {
     "output_type": "execute_result",
     "execution_count": 14,
     "data": {
      "text/plain": "<AxesSubplot:xlabel='power_factor', ylabel='Count'>"
     },
     "metadata": {}
    },
    {
     "data": {
      "text/plain": "<Figure size 432x288 with 1 Axes>",
      "image/png": "[encoded data removed]"
     },
     "metadata": {
      "needs_background": "light",
      "image/png": {
       "width": 376,
       "height": 263
      }
     },
     "output_type": "display_data"
    }
   ],
   "execution_count": null
  },
  {
   "cell_type": "code",
   "source": "sns.boxplot(motor_data['power_factor'])",
   "metadata": {
    "tags": [],
    "cell_id": "00023-749dbd75-a0e4-4e60-9ea7-0825007d1b81",
    "deepnote_to_be_reexecuted": false,
    "source_hash": "e66d78b5",
    "execution_start": 1626401918579,
    "execution_millis": 204,
    "deepnote_cell_type": "code"
   },
   "outputs": [
    {
     "name": "stderr",
     "text": "/shared-libs/python3.7/py/lib/python3.7/site-packages/seaborn/_decorators.py:43: FutureWarning: Pass the following variable as a keyword arg: x. From version 0.12, the only valid positional argument will be `data`, and passing other arguments without an explicit keyword will result in an error or misinterpretation.\n  FutureWarning\n",
     "output_type": "stream"
    },
    {
     "output_type": "execute_result",
     "execution_count": 15,
     "data": {
      "text/plain": "<AxesSubplot:xlabel='power_factor'>"
     },
     "metadata": {}
    },
    {
     "data": {
      "text/plain": "<Figure size 432x288 with 1 Axes>",
      "image/png": "[encoded data removed]"
     },
     "metadata": {
      "needs_background": "light",
      "image/png": {
       "width": 352,
       "height": 263
      }
     },
     "output_type": "display_data"
    }
   ],
   "execution_count": null
  },
  {
   "cell_type": "markdown",
   "source": "**Slip**",
   "metadata": {
    "tags": [],
    "cell_id": "00024-648b429e-4e88-4e30-b36c-cf04271ff4ab",
    "deepnote_cell_type": "markdown"
   }
  },
  {
   "cell_type": "code",
   "source": "sns.histplot(motor_data['slip'])",
   "metadata": {
    "tags": [],
    "cell_id": "00025-08dc7932-77c6-4b44-9b65-3599c9f2cce1",
    "deepnote_to_be_reexecuted": false,
    "source_hash": "4dffe107",
    "execution_start": 1626402000199,
    "execution_millis": 186,
    "deepnote_cell_type": "code"
   },
   "outputs": [
    {
     "output_type": "execute_result",
     "execution_count": 16,
     "data": {
      "text/plain": "<AxesSubplot:xlabel='slip', ylabel='Count'>"
     },
     "metadata": {}
    },
    {
     "data": {
      "text/plain": "<Figure size 432x288 with 1 Axes>",
      "image/png": "[encoded data removed]"
     },
     "metadata": {
      "needs_background": "light",
      "image/png": {
       "width": 386,
       "height": 262
      }
     },
     "output_type": "display_data"
    }
   ],
   "execution_count": null
  },
  {
   "cell_type": "code",
   "source": "sns.boxplot(motor_data['slip'])",
   "metadata": {
    "tags": [],
    "cell_id": "00026-3f2605e6-5053-40d3-873d-38aed5012734",
    "deepnote_to_be_reexecuted": false,
    "source_hash": "9a27d431",
    "execution_start": 1626402035141,
    "execution_millis": 167,
    "deepnote_cell_type": "code"
   },
   "outputs": [
    {
     "name": "stderr",
     "text": "/shared-libs/python3.7/py/lib/python3.7/site-packages/seaborn/_decorators.py:43: FutureWarning: Pass the following variable as a keyword arg: x. From version 0.12, the only valid positional argument will be `data`, and passing other arguments without an explicit keyword will result in an error or misinterpretation.\n  FutureWarning\n",
     "output_type": "stream"
    },
    {
     "output_type": "execute_result",
     "execution_count": 17,
     "data": {
      "text/plain": "<AxesSubplot:xlabel='slip'>"
     },
     "metadata": {}
    },
    {
     "data": {
      "text/plain": "<Figure size 432x288 with 1 Axes>",
      "image/png": "[encoded data removed]"
     },
     "metadata": {
      "needs_background": "light",
      "image/png": {
       "width": 352,
       "height": 262
      }
     },
     "output_type": "display_data"
    }
   ],
   "execution_count": null
  },
  {
   "cell_type": "markdown",
   "source": "<a style='text-decoration:none;line-height:16px;display:flex;color:#5B5B62;padding:10px;justify-content:end;' href='https://deepnote.com?utm_source=created-in-deepnote-cell&projectId=36c54c60-6e31-4b99-9692-c642be612235' target=\"_blank\">\n<img alt='Created in deepnote.com' style='display:inline;max-height:16px;margin:0px;margin-right:7.5px;' src='data:image/svg+xml;base64,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' > </img>\nCreated in <span style='font-weight:600;margin-left:4px;'>Deepnote</span></a>",
   "metadata": {
    "tags": [],
    "created_in_deepnote_cell": true,
    "deepnote_cell_type": "markdown"
   }
  }
 ],
 "nbformat": 4,
 "nbformat_minor": 2,
 "metadata": {
  "orig_nbformat": 2,
  "deepnote": {
   "is_reactive": false
  },
  "deepnote_notebook_id": "0c70e88b-f3db-4a90-9019-1fd1e82dd706",
  "deepnote_execution_queue": []
 }
}